{
 "cells": [
  {
   "cell_type": "markdown",
   "metadata": {},
   "source": [
    "### Read data and visualize\n",
    "Process\n",
    " 1. Read data from wikipedia\n",
    " 2. Create nx.graph\n",
    " 3. Visuzlize\n",
    "\n",
    "three options for reading data,\n",
    "- option 0:directory from python dict\n",
    "- option 1:from rdb\n",
    "- option 2:from elasticsearch\n"
   ]
  },
  {
   "cell_type": "markdown",
   "metadata": {},
   "source": [
    "### 1. Read data from wikipedia"
   ]
  },
  {
   "cell_type": "code",
   "execution_count": null,
   "metadata": {},
   "outputs": [],
   "source": [
    "import pandas as pd\n",
    "from wikiscraper import WikiScraper\n",
    "data = pd.read_csv(\"contents_test.csv\",index_col=0)\n",
    "wscs = []\n",
    "\n",
    "j = 0\n",
    "start = 0\n",
    "stop = start+1+len(data.index.values)\n",
    "\n",
    "for i in data.index.values:\n",
    "    j+=1\n",
    "    if j<start:\n",
    "        continue\n",
    "        \n",
    "    wsc = WikiScraper()\n",
    "    wsc.load(name=i, pageid=data.at[i, 'id'], lang='ja')    \n",
    "    wscs.append(wsc)\n",
    "    \n",
    "    print('-------------------------------------')\n",
    "    print(wsc)\n",
    "    print('+++++++++++++++++++++')\n",
    "#     print wsc._name\n",
    "\n",
    "    if j>=stop:\n",
    "        break"
   ]
  },
  {
   "cell_type": "markdown",
   "metadata": {},
   "source": [
    "### 2.Create nx.graph\n",
    "\n",
    "three options for reading data,\n",
    "- option 0:directory from python dict\n",
    "- option 1:from elasticsearch"
   ]
  },
  {
   "cell_type": "code",
   "execution_count": null,
   "metadata": {},
   "outputs": [],
   "source": [
    "#option 0 directory create nx.graph from python dict\n",
    "from graph import pre_create_graph, create_graph\n",
    "input_data = pd.read_csv(\"contents_test.csv\",index_col=0)\n",
    "points = {}\n",
    "data = {}\n",
    "for wsc in wscs:\n",
    "    points[wsc._name] = float(input_data.at[wsc._name, 'ポイント'])\n",
    "    data[wsc._name] = wsc._result\n",
    "    \n",
    "G = create_graph(pre_create_graph(points=points, data=data))"
   ]
  },
  {
   "cell_type": "code",
   "execution_count": null,
   "metadata": {},
   "outputs": [],
   "source": []
  },
  {
   "cell_type": "code",
   "execution_count": null,
   "metadata": {},
   "outputs": [],
   "source": [
    "#option 1 use elasticsearch\n",
    "# 1-1 put data into elasticsearch\n",
    "from elastic_util import ElasticUtilNameId\n",
    "eu_content = ElasticUtilNameId(index='contents')\n",
    "\n",
    "i = 0\n",
    "for wsc in wscs:\n",
    "    res_dict = wsc._result\n",
    "    print(i, [wsc._name])\n",
    "    res_dict['name'] = wsc._name \n",
    "    eu_content.put(wsc._name, res_dict)\n",
    "    i+=1"
   ]
  },
  {
   "cell_type": "code",
   "execution_count": 1,
   "metadata": {},
   "outputs": [
    {
     "name": "stderr",
     "output_type": "stream",
     "text": [
      "INFO:elasticsearch:HEAD http://localhost:9200/contents [status:200 request:0.004s]\n",
      "WARNING:root:index name:contents exists\n",
      "INFO:elasticsearch:GET http://localhost:9200/contents/_search [status:200 request:0.002s]\n",
      "INFO:elasticsearch:GET http://localhost:9200/contents/_search [status:200 request:0.002s]\n",
      "INFO:elasticsearch:GET http://localhost:9200/contents/_search [status:200 request:0.001s]\n",
      "INFO:elasticsearch:GET http://localhost:9200/contents/_search [status:200 request:0.002s]\n",
      "INFO:elasticsearch:GET http://localhost:9200/contents/_search [status:200 request:0.002s]\n",
      "INFO:elasticsearch:GET http://localhost:9200/contents/_search [status:200 request:0.002s]\n",
      "INFO:elasticsearch:GET http://localhost:9200/contents/_search [status:200 request:0.001s]\n",
      "INFO:elasticsearch:GET http://localhost:9200/contents/_search [status:200 request:0.003s]\n",
      "INFO:elasticsearch:GET http://localhost:9200/contents/_search [status:200 request:0.001s]\n",
      "INFO:elasticsearch:GET http://localhost:9200/contents/_search [status:200 request:0.001s]\n",
      "INFO:elasticsearch:GET http://localhost:9200/contents/_search [status:200 request:0.001s]\n",
      "INFO:elasticsearch:GET http://localhost:9200/contents/_search [status:200 request:0.001s]\n",
      "INFO:elasticsearch:GET http://localhost:9200/contents/_search [status:200 request:0.002s]\n",
      "INFO:elasticsearch:GET http://localhost:9200/contents/_search [status:200 request:0.001s]\n",
      "INFO:elasticsearch:GET http://localhost:9200/contents/_search [status:200 request:0.003s]\n",
      "INFO:elasticsearch:GET http://localhost:9200/contents/_search [status:200 request:0.002s]\n",
      "INFO:elasticsearch:GET http://localhost:9200/contents/_search [status:200 request:0.004s]\n",
      "INFO:elasticsearch:GET http://localhost:9200/contents/_search [status:200 request:0.001s]\n",
      "INFO:elasticsearch:GET http://localhost:9200/contents/_search [status:200 request:0.002s]\n",
      "INFO:elasticsearch:GET http://localhost:9200/contents/_search [status:200 request:0.002s]\n",
      "INFO:elasticsearch:GET http://localhost:9200/contents/_search [status:200 request:0.003s]\n",
      "INFO:elasticsearch:GET http://localhost:9200/contents/_search [status:200 request:0.002s]\n",
      "INFO:elasticsearch:GET http://localhost:9200/contents/_search [status:200 request:0.001s]\n"
     ]
    }
   ],
   "source": [
    "#read from elasticsearch\n",
    "# 1-2 create nx.graph from elasticsearch\n",
    "import pandas as pd\n",
    "from graph import pre_create_graph, create_graph\n",
    "from elastic_util import ElasticUtilNameId\n",
    "eu_content = ElasticUtilNameId(index='contents')\n",
    "\n",
    "#1. read name and point from csv\n",
    "input_data = pd.read_csv(\"contents_test.csv\",index_col=0)\n",
    "\n",
    "#2. get data from elastic search\n",
    "names = input_data.index.values\n",
    "points = {}\n",
    "data = {}\n",
    "for name in names:\n",
    "    points[name] = float(input_data.at[name, 'ポイント'])\n",
    "    res, code = eu_content.get(name)\n",
    "    if code==200:\n",
    "        data[name] = res['_source']\n",
    "    else:\n",
    "        print(res, code)\n",
    "        \n",
    "G = create_graph(pre_create_graph(points=points, data=data)) \n",
    "# for node in G.node():\n",
    "#     print(node, '\\n')\n",
    "\n",
    "# for debug with swagger\n",
    "# print(points)\n"
   ]
  },
  {
   "cell_type": "markdown",
   "metadata": {},
   "source": [
    "### 3. Visuzlize\n",
    "\n",
    "1. remove nodes \n",
    "2. visualize"
   ]
  },
  {
   "cell_type": "code",
   "execution_count": 7,
   "metadata": {},
   "outputs": [
    {
     "name": "stdout",
     "output_type": "stream",
     "text": [
      "Threshold:  1.0\n",
      " node num before simplify: 43\n",
      " node num after simplify: 43\n",
      "[('ウンナンさん', 'TBS'), ('TBS', 'ウンナンの気分は上々。'), ('TBS', 'UN街'), ('TBS', '神さまぁ〜ず'), ('TBS', 'ホリさまぁ〜ず'), ('TBS', 'マルさまぁ〜ず'), ('TBS', 'あらびき団'), ('TBS', '飛び出せ!科学くん'), ('勇者ヨシヒコと悪霊の鍵', '大平尚志'), ('勇者ヨシヒコと悪霊の鍵', 'テレビ東京'), ('勇者ヨシヒコと悪霊の鍵', 'イースト'), ('勇者ヨシヒコと悪霊の鍵', 'エンタテインメント'), ('大平尚志', 'ツギクルもん'), ('大平尚志', 'うつけもん'), ('大平尚志', 'オサレもん'), ('テレビ東京', '勇者ヨシヒコと導かれし七人'), ('テレビ東京', '30minutes'), ('テレビ東京', '30minutes鬼'), ('テレビ東京', 'デリパンダ〜おしゃべりデリ坊、東京ド真ん中配達中〜'), ('イースト', '勇者ヨシヒコと導かれし七人'), ('イースト', '飛び出せ!科学くん'), ('エンタテインメント', '勇者ヨシヒコと導かれし七人'), ('エンタテインメント', '飛び出せ!科学くん'), ('ネリさまぁ〜ず', '大竹一樹'), ('ネリさまぁ〜ず', '大井洋一'), ('ネリさまぁ〜ず', '村松聡'), ('ネリさまぁ〜ず', '水野達也'), ('ネリさまぁ〜ず', '飯沼美佐子'), ('ネリさまぁ〜ず', 'Gyama'), ('ネリさまぁ〜ず', 'さまぁ〜ず'), ('大竹一樹', '神さまぁ〜ず'), ('大竹一樹', 'ホリさまぁ〜ず'), ('大竹一樹', 'マルさまぁ〜ず'), ('大井洋一', '神さまぁ〜ず'), ('大井洋一', 'ホリさまぁ〜ず'), ('大井洋一', 'マルさまぁ〜ず'), ('村松聡', '神さまぁ〜ず'), ('村松聡', 'ホリさまぁ〜ず'), ('村松聡', 'マルさまぁ〜ず'), ('水野達也', '神さまぁ〜ず'), ('水野達也', 'ホリさまぁ〜ず'), ('水野達也', 'マルさまぁ〜ず'), ('飯沼美佐子', '神さまぁ〜ず'), ('飯沼美佐子', 'ホリさまぁ〜ず'), ('飯沼美佐子', 'マルさまぁ〜ず'), ('Gyama', '神さまぁ〜ず'), ('Gyama', 'ホリさまぁ〜ず'), ('Gyama', 'マルさまぁ〜ず'), ('さまぁ〜ず', '神さまぁ〜ず'), ('さまぁ〜ず', 'ホリさまぁ〜ず'), ('さまぁ〜ず', 'マルさまぁ〜ず'), ('神さまぁ〜ず', '成瀬正人'), ('神さまぁ〜ず', '八峯テレビ'), ('成瀬正人', 'ホリさまぁ〜ず'), ('成瀬正人', 'マルさまぁ〜ず'), ('成瀬正人', 'バナナ塾'), ('成瀬正人', 'バナナマンのブログ刑事'), ('成瀬正人', 'オトナ養成所_バナナスクール'), ('八峯テレビ', 'ホリさまぁ〜ず'), ('八峯テレビ', 'マルさまぁ〜ず'), ('八峯テレビ', 'バナナマンのブログ刑事'), ('バナナ塾', '小澤慧里子'), ('バナナ塾', 'バナナマン'), ('小澤慧里子', 'バナナマンのブログ刑事'), ('小澤慧里子', 'ツギクルもん'), ('小澤慧里子', 'うつけもん'), ('小澤慧里子', 'オサレもん'), ('バナナマン', 'バナナマンのブログ刑事'), ('バナナマン', 'オトナ養成所_バナナスクール'), ('バナナマン', '30minutes'), ('バナナマン', '30minutes鬼'), ('バナナマン', 'デリパンダ〜おしゃべりデリ坊、東京ド真ん中配達中〜'), ('ツギクルもん', 'フジアール'), ('ツギクルもん', 'FMT'), ('ツギクルもん', 'フジテレビ'), ('ツギクルもん', 'おぎやはぎ'), ('フジアール', 'うつけもん'), ('フジアール', 'オサレもん'), ('フジアール', 'タイプライターズ'), ('FMT', 'オサレもん'), ('FMT', 'タイプライターズ'), ('フジテレビ', 'うつけもん'), ('フジテレビ', 'オサレもん'), ('フジテレビ', 'タイプライターズ'), ('おぎやはぎ', 'うつけもん'), ('おぎやはぎ', 'オサレもん'), ('おぎやはぎ', '30minutes'), ('おぎやはぎ', '30minutes鬼'), ('おぎやはぎ', 'デリパンダ〜おしゃべりデリ坊、東京ド真ん中配達中〜')]\n"
     ]
    },
    {
     "data": {
      "text/plain": [
       "\"[('ウンナンさん', 'TBS'), ('TBS', 'ウンナンの気分は上々。'), ('TBS', 'UN街'), ('TBS', '神さまぁ〜ず'), ('TBS', 'ホリさまぁ〜ず'), ('TBS', 'マルさまぁ〜ず'), ('TBS', 'あらびき団'), ('TBS', '飛び出せ!科学くん'), ('勇者ヨシヒコと悪霊の鍵', '大平尚志'), ('勇者ヨシヒコと悪霊の鍵', 'テレビ東京'), ('勇者ヨシヒコと悪霊の鍵', 'イースト'), ('勇者ヨシヒコと悪霊の鍵', 'エンタテインメント'), ('大平尚志', 'ツギクルもん'), ('大平尚志', 'うつけもん'), ('大平尚志', 'オサレもん'), ('テレビ東京', '勇者ヨシヒコと導かれし七人'), ('テレビ東京', '30minutes'), ('テレビ東京', '30minutes鬼'), ('テレビ東京', 'デリパンダ〜おしゃべりデリ坊、東京ド真ん中配達中〜'), ('イースト', '勇者ヨシヒコと導かれし七人'), ('イースト', '飛び出せ!科学くん'), ('エンタテインメント', '勇者ヨシヒコと導かれし七人'), ('エンタテインメント', '飛び出せ!科学くん'), ('ネリさまぁ〜ず', '大竹一樹'), ('ネリさまぁ〜ず', '大井洋一'), ('ネリさまぁ〜ず', '村松聡'), ('ネリさまぁ〜ず', '水野達也'), ('ネリさまぁ〜ず', '飯沼美佐子'), ('ネリさまぁ〜ず', 'Gyama'), ('ネリさまぁ〜ず', 'さまぁ〜ず'), ('大竹一樹', '神さまぁ〜ず'), ('大竹一樹', 'ホリさまぁ〜ず'), ('大竹一樹', 'マルさまぁ〜ず'), ('大井洋一', '神さまぁ〜ず'), ('大井洋一', 'ホリさまぁ〜ず'), ('大井洋一', 'マルさまぁ〜ず'), ('村松聡', '神さまぁ〜ず'), ('村松聡', 'ホリさまぁ〜ず'), ('村松聡', 'マルさまぁ〜ず'), ('水野達也', '神さまぁ〜ず'), ('水野達也', 'ホリさまぁ〜ず'), ('水野達也', 'マルさまぁ〜ず'), ('飯沼美佐子', '神さまぁ〜ず'), ('飯沼美佐子', 'ホリさまぁ〜ず'), ('飯沼美佐子', 'マルさまぁ〜ず'), ('Gyama', '神さまぁ〜ず'), ('Gyama', 'ホリさまぁ〜ず'), ('Gyama', 'マルさまぁ〜ず'), ('さまぁ〜ず', '神さまぁ〜ず'), ('さまぁ〜ず', 'ホリさまぁ〜ず'), ('さまぁ〜ず', 'マルさまぁ〜ず'), ('神さまぁ〜ず', '成瀬正人'), ('神さまぁ〜ず', '八峯テレビ'), ('成瀬正人', 'ホリさまぁ〜ず'), ('成瀬正人', 'マルさまぁ〜ず'), ('成瀬正人', 'バナナ塾'), ('成瀬正人', 'バナナマンのブログ刑事'), ('成瀬正人', 'オトナ養成所_バナナスクール'), ('八峯テレビ', 'ホリさまぁ〜ず'), ('八峯テレビ', 'マルさまぁ〜ず'), ('八峯テレビ', 'バナナマンのブログ刑事'), ('バナナ塾', '小澤慧里子'), ('バナナ塾', 'バナナマン'), ('小澤慧里子', 'バナナマンのブログ刑事'), ('小澤慧里子', 'ツギクルもん'), ('小澤慧里子', 'うつけもん'), ('小澤慧里子', 'オサレもん'), ('バナナマン', 'バナナマンのブログ刑事'), ('バナナマン', 'オトナ養成所_バナナスクール'), ('バナナマン', '30minutes'), ('バナナマン', '30minutes鬼'), ('バナナマン', 'デリパンダ〜おしゃべりデリ坊、東京ド真ん中配達中〜'), ('ツギクルもん', 'フジアール'), ('ツギクルもん', 'FMT'), ('ツギクルもん', 'フジテレビ'), ('ツギクルもん', 'おぎやはぎ'), ('フジアール', 'うつけもん'), ('フジアール', 'オサレもん'), ('フジアール', 'タイプライターズ'), ('FMT', 'オサレもん'), ('FMT', 'タイプライターズ'), ('フジテレビ', 'うつけもん'), ('フジテレビ', 'オサレもん'), ('フジテレビ', 'タイプライターズ'), ('おぎやはぎ', 'うつけもん'), ('おぎやはぎ', 'オサレもん'), ('おぎやはぎ', '30minutes'), ('おぎやはぎ', '30minutes鬼'), ('おぎやはぎ', 'デリパンダ〜おしゃべりデリ坊、東京ド真ん中配達中〜')]\""
      ]
     },
     "execution_count": 7,
     "metadata": {},
     "output_type": "execute_result"
    }
   ],
   "source": [
    "#remove nodes for visualization\n",
    "from graph import pre_create_graph, create_graph, reduce_node, merge_genre\n",
    "\n",
    "G2 = reduce_node(G, max_number_of_nodes=500)\n",
    "G2 = merge_genre(G2)\n",
    "G = G2\n",
    "\n",
    "# for node in G.node():\n",
    "#     print(node, '\\n')\n",
    "# print(G.edges)\n",
    "# print(G.node['TBS'])\n",
    "print(list(G.edges))\n",
    "# G.edges.__str__()"
   ]
  },
  {
   "cell_type": "code",
   "execution_count": 3,
   "metadata": {},
   "outputs": [],
   "source": [
    "#visualize with pyvis + networkx \n",
    "from pyvis.network import Network\n",
    "# nxg = nx.complete_graph(10)\n",
    "# gg = Network(notebook=True)\n",
    "# gg.from_nx(G)\n",
    "# gg.show(\"nx.html\")\n",
    "threshold=1.0\n",
    "\n",
    "def get_net_node(net, key, value):\n",
    "    for item in net.nodes:\n",
    "        if item[key] == value:\n",
    "            return item\n",
    "    return None \n",
    "\n",
    "net = Network(height='500px', width='1000px')\n",
    "# net = Network(notebook=True)\n",
    "net.show_buttons(filter_=['physics'])\n",
    "net.force_atlas_2based(\n",
    "    gravity=-30, \n",
    "    central_gravity=0.01, \n",
    "    spring_length=1.0, \n",
    "    spring_strength=0.8, \n",
    "    damping=1.0, \n",
    "    overlap=1.0)\n",
    "# net.options.physics.__dict__['timestep'] = 0.5\n",
    "net.options.physics.__dict__['adaptiveTimestep'] = True\n",
    "net.toggle_hide_edges_on_drag(True)\n",
    "\n",
    "scaling = dict(min=1, \n",
    "                       max=100, \n",
    "                       label=dict(enable=True, \n",
    "                                          min=10, \n",
    "                                          max=100))\n",
    "\n",
    "node_id = 0\n",
    "for label in G.nodes:\n",
    "#     print label, G.node[label]['genre'], G.node[label]['point']\n",
    "    if G.node[label]['genre'] == 'attribute':\n",
    "        shape = 'dot'\n",
    "        value = G.node[label]['point']\n",
    "        mass=G.node[label]['point']\n",
    "    else:\n",
    "        shape = 'box'\n",
    "        value = threshold\n",
    "        mass = 10\n",
    "    net.add_node(node_id, label=label, \n",
    "                 group=G.node[label]['genre'], \n",
    "                 value=value,\n",
    "                 mass=mass,\n",
    "                 scaling = scaling,\n",
    "                 shape=shape)\n",
    "    node_id += 1\n",
    "    \n",
    "for edge in G.edges:\n",
    "    edge[0], edge[1]\n",
    "    net.add_edge( get_net_node(net, 'label', edge[0])['id'], \n",
    "                 get_net_node(net, 'label', edge[1])['id'])\n",
    "    \n",
    "# net.save_graph(\"result.html\")\n",
    "net.show(\"result.html\")"
   ]
  },
  {
   "cell_type": "code",
   "execution_count": null,
   "metadata": {},
   "outputs": [],
   "source": []
  }
 ],
 "metadata": {
  "kernelspec": {
   "display_name": "Python 3",
   "language": "python",
   "name": "python3"
  },
  "language_info": {
   "codemirror_mode": {
    "name": "ipython",
    "version": 3
   },
   "file_extension": ".py",
   "mimetype": "text/x-python",
   "name": "python",
   "nbconvert_exporter": "python",
   "pygments_lexer": "ipython3",
   "version": "3.6.9"
  }
 },
 "nbformat": 4,
 "nbformat_minor": 2
}
