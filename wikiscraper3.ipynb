{
 "cells": [
  {
   "cell_type": "markdown",
   "metadata": {},
   "source": [
    "### Read data and visualize\n",
    "Process\n",
    " 1. Read data from wikipedia\n",
    " 2. Create nx.graph\n",
    " 3. Visuzlize\n",
    "\n",
    "three options for reading data,\n",
    "- option 0:directory from python dict\n",
    "- option 1:from rdb\n",
    "- option 2:from elasticsearch\n"
   ]
  },
  {
   "cell_type": "markdown",
   "metadata": {},
   "source": [
    "### 1. Read data from wikipedia"
   ]
  },
  {
   "cell_type": "code",
   "execution_count": null,
   "metadata": {},
   "outputs": [],
   "source": [
    "import pandas as pd\n",
    "from wikiscraper import WikiScraper\n",
    "data = pd.read_csv(\"contents.csv\",index_col=0)\n",
    "wscs = []\n",
    "\n",
    "# j = 0\n",
    "# start = 0\n",
    "# stop = start+1+len(data.index.values)\n",
    "\n",
    "for i in data.index.values:\n",
    "#     j+=1\n",
    "#     if j<start:\n",
    "#         continue\n",
    "        \n",
    "    wsc = WikiScraper()\n",
    "    wsc.load(name=i, pageid=data.at[i, 'id'], lang='ja')    \n",
    "    wscs.append(wsc)\n",
    "    \n",
    "    print('-------------------------------------')\n",
    "    print(wsc)\n",
    "    print('+++++++++++++++++++++')\n",
    "#     print wsc._name\n",
    "\n",
    "#     if j>=stop:\n",
    "#         break\n",
    "\n",
    "#to put manually get data\n",
    "# pd.DataFrame.to_dict(data.T)\n"
   ]
  },
  {
   "cell_type": "markdown",
   "metadata": {},
   "source": [
    "### 2.Create nx.graph\n",
    "\n",
    "three options for reading data,\n",
    "- option 0:directory from python dict\n",
    "- option 1:from elasticsearch"
   ]
  },
  {
   "cell_type": "code",
   "execution_count": null,
   "metadata": {},
   "outputs": [],
   "source": [
    "#option 0 directory create nx.graph from python dict\n",
    "from graph import pre_create_graph, create_graph\n",
    "input_data = pd.read_csv(\"contents_test.csv\",index_col=0)\n",
    "points = {}\n",
    "data = {}\n",
    "for wsc in wscs:\n",
    "    points[wsc._name] = float(input_data.at[wsc._name, 'ポイント'])\n",
    "    data[wsc._name] = wsc._result\n",
    "    \n",
    "G = create_graph(pre_create_graph(points=points, data=data))"
   ]
  },
  {
   "cell_type": "code",
   "execution_count": null,
   "metadata": {},
   "outputs": [],
   "source": []
  },
  {
   "cell_type": "code",
   "execution_count": null,
   "metadata": {},
   "outputs": [],
   "source": [
    "#option 1 use elasticsearch\n",
    "# 1-1 put data into elasticsearch\n",
    "from elastic_util import ElasticUtilNameId\n",
    "eu_content = ElasticUtilNameId(index='contents')\n",
    "\n",
    "i = 0\n",
    "for wsc in wscs:\n",
    "    res_dict = wsc._result\n",
    "    print(i, [wsc._name])\n",
    "    res_dict['name'] = wsc._name \n",
    "    eu_content.put(wsc._name, res_dict)\n",
    "    i+=1"
   ]
  },
  {
   "cell_type": "code",
   "execution_count": null,
   "metadata": {},
   "outputs": [],
   "source": [
    "#read from elasticsearch\n",
    "# 1-2 create nx.graph from elasticsearch\n",
    "import pandas as pd\n",
    "from graph import pre_create_graph, create_graph\n",
    "from elastic_util import ElasticUtilNameId\n",
    "eu_content = ElasticUtilNameId(index='contents')\n",
    "\n",
    "#1. read name and point from csv\n",
    "input_data = pd.read_csv(\"contents_test.csv\",index_col=0)\n",
    "\n",
    "#2. get data from elastic search\n",
    "names = input_data.index.values\n",
    "points = {}\n",
    "data = {}\n",
    "for name in names:\n",
    "    points[name] = float(input_data.at[name, 'point'])\n",
    "    res, code = eu_content.get(name)\n",
    "    if code==200:\n",
    "        data[name] = res['_source']\n",
    "    else:\n",
    "        print(res, code)\n",
    "        \n",
    "G = create_graph(pre_create_graph(points=points, data=data)) \n",
    "# for node in G.node():\n",
    "#     print(node, '\\n')\n",
    "\n",
    "# for debug with swagger\n",
    "# print(points)\n"
   ]
  },
  {
   "cell_type": "markdown",
   "metadata": {},
   "source": [
    "### 3. Visuzlize\n",
    "\n",
    "1. remove nodes \n",
    "2. visualize"
   ]
  },
  {
   "cell_type": "code",
   "execution_count": null,
   "metadata": {},
   "outputs": [],
   "source": [
    "#remove nodes for visualization\n",
    "from graph import pre_create_graph, create_graph, reduce_node, merge_genre\n",
    "\n",
    "G2 = reduce_node(G, max_number_of_nodes=500)\n",
    "G2 = merge_genre(G2)\n",
    "G = G2\n",
    "\n",
    "# for node in G.node():\n",
    "#     print(node, '\\n')\n",
    "# print(G.edges)\n",
    "# print(G.node['TBS'])\n",
    "print(list(G.edges))\n",
    "# G.edges.__str__()"
   ]
  },
  {
   "cell_type": "code",
   "execution_count": null,
   "metadata": {},
   "outputs": [],
   "source": [
    "#visualize with pyvis + networkx \n",
    "from pyvis.network import Network\n",
    "# nxg = nx.complete_graph(10)\n",
    "# gg = Network(notebook=True)\n",
    "# gg.from_nx(G)\n",
    "# gg.show(\"nx.html\")\n",
    "threshold=1.0\n",
    "\n",
    "def get_net_node(net, key, value):\n",
    "    for item in net.nodes:\n",
    "        if item[key] == value:\n",
    "            return item\n",
    "    return None \n",
    "\n",
    "net = Network(height='500px', width='1000px')\n",
    "# net = Network(notebook=True)\n",
    "net.show_buttons(filter_=['physics'])\n",
    "net.force_atlas_2based(\n",
    "    gravity=-30, \n",
    "    central_gravity=0.01, \n",
    "    spring_length=1.0, \n",
    "    spring_strength=0.8, \n",
    "    damping=1.0, \n",
    "    overlap=1.0)\n",
    "# net.options.physics.__dict__['timestep'] = 0.5\n",
    "net.options.physics.__dict__['adaptiveTimestep'] = True\n",
    "net.toggle_hide_edges_on_drag(True)\n",
    "\n",
    "scaling = dict(min=1, \n",
    "                       max=100, \n",
    "                       label=dict(enable=True, \n",
    "                                          min=10, \n",
    "                                          max=100))\n",
    "\n",
    "node_id = 0\n",
    "for label in G.nodes:\n",
    "#     print label, G.node[label]['genre'], G.node[label]['point']\n",
    "    if G.node[label]['genre'] == 'attribute':\n",
    "        shape = 'dot'\n",
    "        value = G.node[label]['point']\n",
    "        mass=G.node[label]['point']\n",
    "    else:\n",
    "        shape = 'box'\n",
    "        value = threshold\n",
    "        mass = 10\n",
    "    net.add_node(node_id, label=label, \n",
    "                 group=G.node[label]['genre'], \n",
    "                 value=value,\n",
    "                 mass=mass,\n",
    "                 scaling = scaling,\n",
    "                 shape=shape)\n",
    "    node_id += 1\n",
    "    \n",
    "for edge in G.edges:\n",
    "    edge[0], edge[1]\n",
    "    net.add_edge( get_net_node(net, 'label', edge[0])['id'], \n",
    "                 get_net_node(net, 'label', edge[1])['id'])\n",
    "    \n",
    "# net.save_graph(\"result.html\")\n",
    "net.show(\"result.html\")"
   ]
  },
  {
   "cell_type": "code",
   "execution_count": null,
   "metadata": {},
   "outputs": [],
   "source": []
  }
 ],
 "metadata": {
  "kernelspec": {
   "display_name": "Python 3",
   "language": "python",
   "name": "python3"
  },
  "language_info": {
   "codemirror_mode": {
    "name": "ipython",
    "version": 3
   },
   "file_extension": ".py",
   "mimetype": "text/x-python",
   "name": "python",
   "nbconvert_exporter": "python",
   "pygments_lexer": "ipython3",
   "version": "3.6.9"
  }
 },
 "nbformat": 4,
 "nbformat_minor": 2
}
